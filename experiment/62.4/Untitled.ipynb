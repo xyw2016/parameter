{
 "cells": [
  {
   "cell_type": "code",
   "execution_count": 1,
   "metadata": {},
   "outputs": [],
   "source": [
    "import numpy as np"
   ]
  },
  {
   "cell_type": "code",
   "execution_count": 2,
   "metadata": {},
   "outputs": [],
   "source": [
    "dat1 = np.loadtxt(\"exp_pt_211bk2.dat\")"
   ]
  },
  {
   "cell_type": "code",
   "execution_count": 3,
   "metadata": {},
   "outputs": [],
   "source": [
    "dat1[:,0] = ( dat1[:,0]+dat1[:,1] )*0.5"
   ]
  },
  {
   "cell_type": "code",
   "execution_count": 4,
   "metadata": {},
   "outputs": [],
   "source": [
    "np.savetxt(\"exp_pt_211_0_5.dat\",np.array(zip(dat1[:,0],dat1[:,8],dat1[:,9],dat1[:,10])))\n",
    "np.savetxt(\"exp_pt_211_5_10.dat\",np.array(zip(dat1[:,0],dat1[:,5],dat1[:,6],dat1[:,7])))\n",
    "np.savetxt(\"exp_pt_211_10_20.dat\",np.array(zip(dat1[:,0],dat1[:,2],dat1[:,3],dat1[:,4])))"
   ]
  },
  {
   "cell_type": "code",
   "execution_count": 5,
   "metadata": {},
   "outputs": [],
   "source": [
    "dat1 = np.loadtxt(\"exp_pt_211bk1.dat\")\n",
    "dat1[:,0] = ( dat1[:,0]+dat1[:,1] )*0.5"
   ]
  },
  {
   "cell_type": "code",
   "execution_count": 6,
   "metadata": {},
   "outputs": [],
   "source": [
    "np.savetxt(\"exp_pt_211_20_40.dat\",np.array(zip(dat1[:,0],dat1[:,8],dat1[:,9],dat1[:,10])))\n",
    "np.savetxt(\"exp_pt_211_40_60.dat\",np.array(zip(dat1[:,0],dat1[:,5],dat1[:,6],dat1[:,7])))\n",
    "np.savetxt(\"exp_pt_211_60_80.dat\",np.array(zip(dat1[:,0],dat1[:,2],dat1[:,3],dat1[:,4])))"
   ]
  },
  {
   "cell_type": "code",
   "execution_count": 7,
   "metadata": {},
   "outputs": [],
   "source": [
    "dat1 = np.loadtxt(\"exp_pt_321bk2.dat\")\n",
    "dat1[:,0] = ( dat1[:,0]+dat1[:,1] )*0.5"
   ]
  },
  {
   "cell_type": "code",
   "execution_count": 8,
   "metadata": {},
   "outputs": [],
   "source": [
    "np.savetxt(\"exp_pt_321_0_5.dat\",np.array(zip(dat1[:,0],dat1[:,8],dat1[:,9],dat1[:,10])))\n",
    "np.savetxt(\"exp_pt_321_5_10.dat\",np.array(zip(dat1[:,0],dat1[:,5],dat1[:,6],dat1[:,7])))\n",
    "np.savetxt(\"exp_pt_321_10_20.dat\",np.array(zip(dat1[:,0],dat1[:,2],dat1[:,3],dat1[:,4])))"
   ]
  },
  {
   "cell_type": "code",
   "execution_count": 9,
   "metadata": {},
   "outputs": [],
   "source": [
    "dat1 = np.loadtxt(\"exp_pt_321bk1.dat\")\n",
    "dat1[:,0] = ( dat1[:,0]+dat1[:,1] )*0.5"
   ]
  },
  {
   "cell_type": "code",
   "execution_count": 10,
   "metadata": {},
   "outputs": [],
   "source": [
    "np.savetxt(\"exp_pt_321_20_40.dat\",np.array(zip(dat1[:,0],dat1[:,8],dat1[:,9],dat1[:,10])))\n",
    "np.savetxt(\"exp_pt_321_40_60.dat\",np.array(zip(dat1[:,0],dat1[:,5],dat1[:,6],dat1[:,7])))\n",
    "np.savetxt(\"exp_pt_321_60_80.dat\",np.array(zip(dat1[:,0],dat1[:,2],dat1[:,3],dat1[:,4])))"
   ]
  },
  {
   "cell_type": "code",
   "execution_count": 11,
   "metadata": {},
   "outputs": [],
   "source": [
    "dat1 = np.loadtxt(\"exp_pt_-2212bk2.dat\")\n",
    "dat1[:,0] = ( dat1[:,0]+dat1[:,1] )*0.5\n",
    "np.savetxt(\"exp_pt_-2212_0_5.dat\",np.array(zip(dat1[:,0],dat1[:,8],dat1[:,9],dat1[:,10])))\n",
    "np.savetxt(\"exp_pt_-2212_5_10.dat\",np.array(zip(dat1[:,0],dat1[:,5],dat1[:,6],dat1[:,7])))\n",
    "np.savetxt(\"exp_pt_-2212_10_20.dat\",np.array(zip(dat1[:,0],dat1[:,2],dat1[:,3],dat1[:,4])))\n",
    "dat1 = np.loadtxt(\"exp_pt_-2212bk1.dat\")\n",
    "dat1[:,0] = ( dat1[:,0]+dat1[:,1] )*0.5\n",
    "np.savetxt(\"exp_pt_-2212_20_40.dat\",np.array(zip(dat1[:,0],dat1[:,8],dat1[:,9],dat1[:,10])))\n",
    "np.savetxt(\"exp_pt_-2212_40_60.dat\",np.array(zip(dat1[:,0],dat1[:,5],dat1[:,6],dat1[:,7])))\n",
    "np.savetxt(\"exp_pt_-2212_60_80.dat\",np.array(zip(dat1[:,0],dat1[:,2],dat1[:,3],dat1[:,4])))"
   ]
  },
  {
   "cell_type": "code",
   "execution_count": 12,
   "metadata": {},
   "outputs": [],
   "source": [
    "dat1 = np.loadtxt(\"exp_pt_2212bk2.dat\")\n",
    "dat1[:,0] = ( dat1[:,0]+dat1[:,1] )*0.5\n",
    "np.savetxt(\"exp_pt_2212_0_5.dat\",np.array(zip(dat1[:,0],dat1[:,8],dat1[:,9],dat1[:,10])))\n",
    "np.savetxt(\"exp_pt_2212_5_10.dat\",np.array(zip(dat1[:,0],dat1[:,5],dat1[:,6],dat1[:,7])))\n",
    "np.savetxt(\"exp_pt_2212_10_20.dat\",np.array(zip(dat1[:,0],dat1[:,2],dat1[:,3],dat1[:,4])))\n",
    "dat1 = np.loadtxt(\"exp_pt_2212bk1.dat\")\n",
    "dat1[:,0] = ( dat1[:,0]+dat1[:,1] )*0.5\n",
    "np.savetxt(\"exp_pt_2212_20_40.dat\",np.array(zip(dat1[:,0],dat1[:,8],dat1[:,9],dat1[:,10])))\n",
    "np.savetxt(\"exp_pt_2212_40_60.dat\",np.array(zip(dat1[:,0],dat1[:,5],dat1[:,6],dat1[:,7])))\n",
    "np.savetxt(\"exp_pt_2212_60_80.dat\",np.array(zip(dat1[:,0],dat1[:,2],dat1[:,3],dat1[:,4])))"
   ]
  },
  {
   "cell_type": "code",
   "execution_count": null,
   "metadata": {},
   "outputs": [],
   "source": []
  }
 ],
 "metadata": {
  "kernelspec": {
   "display_name": "Python 2",
   "language": "python",
   "name": "python2"
  },
  "language_info": {
   "codemirror_mode": {
    "name": "ipython",
    "version": 2
   },
   "file_extension": ".py",
   "mimetype": "text/x-python",
   "name": "python",
   "nbconvert_exporter": "python",
   "pygments_lexer": "ipython2",
   "version": "2.7.16"
  }
 },
 "nbformat": 4,
 "nbformat_minor": 2
}
